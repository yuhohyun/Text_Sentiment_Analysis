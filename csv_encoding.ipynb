{
 "cells": [
  {
   "cell_type": "code",
   "execution_count": 1,
   "id": "36b7fa32",
   "metadata": {},
   "outputs": [
    {
     "name": "stdout",
     "output_type": "stream",
     "text": [
      "                                                Sentence Emotion\n",
      "0                               언니 동생으로 부르는게 맞는 일인가요..??      공포\n",
      "1                                           그냥 내 느낌일뿐겠지?      공포\n",
      "2                                         아직너무초기라서 그런거죠?      공포\n",
      "3                                          유치원버스 사고 낫다던데      공포\n",
      "4                                            근데 원래이런거맞나요      공포\n",
      "...                                                  ...     ...\n",
      "38589               솔직히 예보 제대로 못하는 데 세금이라도 아끼게 그냥 폐지해라..      혐오\n",
      "38590                                        재미가 없으니 망하지      혐오\n",
      "38591  공장 도시락 비우생적임 아르바이트했는데 화장실가성 손도 않씯고 재료 담고 바닥 떨어...      혐오\n",
      "38592               코딱지 만한 나라에서 지들끼리 피터지게 싸우는 센징 클래스 ㅉㅉㅉ      혐오\n",
      "38593               와이프도 그렇고 댓글 다 볼텐데 이휘재 좀 하차 하라고 전해주세요      혐오\n",
      "\n",
      "[38594 rows x 2 columns]\n"
     ]
    }
   ],
   "source": [
    "import pandas as pd\n",
    "\n",
    "# CSV 파일 읽기 (이 예제에서는 'input.csv' 파일을 읽습니다. 적절한 파일 경로로 변경하세요.)\n",
    "# 인코딩을 명시적으로 지정해야 하는 경우 'encoding' 파라미터에 해당 인코딩을 지정하세요.\n",
    "df = pd.read_csv('./dataset/dialog_dataset.csv', encoding='cp949')\n",
    "print(df)"
   ]
  },
  {
   "cell_type": "code",
   "execution_count": 2,
   "id": "47b4d401",
   "metadata": {},
   "outputs": [],
   "source": [
    "df.dropna(inplace=True)"
   ]
  },
  {
   "cell_type": "code",
   "execution_count": 3,
   "id": "feeeeda3",
   "metadata": {},
   "outputs": [],
   "source": [
    "df = df.sample(frac=1).reset_index(drop=True)"
   ]
  },
  {
   "cell_type": "code",
   "execution_count": 4,
   "id": "4ee8e42b",
   "metadata": {},
   "outputs": [
    {
     "name": "stdout",
     "output_type": "stream",
     "text": [
      "                              Sentence Emotion\n",
      "0                          김상수 정인욱 보내라      중립\n",
      "1                     특검은 대한민국이 응원합니다.      행복\n",
      "2                 거기서는 정말 행복하길 바랍니다…ㅠㅠ      슬픔\n",
      "3                          마블리가 왜 여기..      놀람\n",
      "4               긍게 언제쯤 온다고?! 왜 말이 없나?!      분노\n",
      "...                                ...     ...\n",
      "38589               좀 무섭기도 하고 그런거예요 ㅠㅠ      슬픔\n",
      "38590  해외 장거리로 헤어져서 지금은 헤어진지 육개월정도 됐어요      슬픔\n",
      "38591       난 가족이랑 있을땐 오히려 폰 안하는데.....      중립\n",
      "38592                노트7 팔려고 못들어오게 하나바      공포\n",
      "38593   우리 시어머니평범한 50댄데 자꾸 이런글 퍼다날림...      중립\n",
      "\n",
      "[38594 rows x 2 columns]\n"
     ]
    }
   ],
   "source": [
    "print(df)"
   ]
  },
  {
   "cell_type": "code",
   "execution_count": 5,
   "id": "2f98781d",
   "metadata": {},
   "outputs": [],
   "source": [
    "# DataFrame을 UTF-8 인코딩으로 다시 저장 (이 예제에서는 'output.csv'로 저장합니다.)\n",
    "df.to_csv('./dataset/encoded_dialog_dataset.csv', index=False, encoding='utf-8')"
   ]
  },
  {
   "cell_type": "code",
   "execution_count": null,
   "id": "a6182361",
   "metadata": {},
   "outputs": [],
   "source": []
  }
 ],
 "metadata": {
  "kernelspec": {
   "display_name": "Python 3 (ipykernel)",
   "language": "python",
   "name": "python3"
  },
  "language_info": {
   "codemirror_mode": {
    "name": "ipython",
    "version": 3
   },
   "file_extension": ".py",
   "mimetype": "text/x-python",
   "name": "python",
   "nbconvert_exporter": "python",
   "pygments_lexer": "ipython3",
   "version": "3.8.10"
  }
 },
 "nbformat": 4,
 "nbformat_minor": 5
}
